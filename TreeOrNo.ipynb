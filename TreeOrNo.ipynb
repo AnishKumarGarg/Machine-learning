{
  "cells": [
    {
      "cell_type": "markdown",
      "source": [
        "#Model Building"
      ],
      "metadata": {
        "id": "E8zmqIfTU-XW"
      },
      "id": "E8zmqIfTU-XW"
    },
    {
      "cell_type": "code",
      "source": [
        "import numpy as np # used for working with arrays\n",
        "import matplotlib.pyplot as plt\n",
        "import pandas as pd # used for data science/data analysis and machine learning tasks\n",
        "\n",
        "import tensorflow as tf\n",
        "from keras.layers import Dense, Flatten\n",
        "from keras.models import Model # Functional API\n",
        "# We may also use sequential API\n",
        "from keras.applications.inception_v3 import InceptionV3, preprocess_input\n",
        "from keras.preprocessing.image import ImageDataGenerator, load_img, img_to_array\n",
        "import keras\n"
      ],
      "metadata": {
        "id": "f7pY4A0xhFuw"
      },
      "id": "f7pY4A0xhFuw",
      "execution_count": 156,
      "outputs": []
    },
    {
      "cell_type": "markdown",
      "source": [
        "1. Build base model which is inceptionV3\n",
        "2. Outputs of InceptionV3 will be added to flatten layer and then back to neural network"
      ],
      "metadata": {
        "id": "SsTU_IwXWJTu"
      },
      "id": "SsTU_IwXWJTu"
    },
    {
      "cell_type": "code",
      "source": [
        "base_model=InceptionV3(input_shape=(256,256,3),include_top=False)"
      ],
      "metadata": {
        "id": "-oYKdgMPmDbn"
      },
      "id": "-oYKdgMPmDbn",
      "execution_count": 157,
      "outputs": []
    },
    {
      "cell_type": "code",
      "source": [
        "# We wont train any layer\n",
        "for layer in base_model.layers:\n",
        "  layer.trainable=False"
      ],
      "metadata": {
        "id": "s_TPQHwZ2Kn8"
      },
      "id": "s_TPQHwZ2Kn8",
      "execution_count": 158,
      "outputs": []
    },
    {
      "cell_type": "markdown",
      "source": [
        "Whatever the output of base model we take that and add it to our actual model"
      ],
      "metadata": {
        "id": "ahZf-02PW3uA"
      },
      "id": "ahZf-02PW3uA"
    },
    {
      "cell_type": "code",
      "source": [
        "# With the help of Sigmoid activation function, we are able to reduce the loss during the time of training because it eliminates the gradient problem in machine learning model while training.\n",
        "from keras.backend import sigmoid\n",
        "X=Flatten()(base_model.output) # input\n",
        "X=Dense(units=2, activation='sigmoid')(X) # No. of classes 2 so units also 2\n",
        "# Final Model\n",
        "model=Model(base_model.input,X)\n",
        "model.compile(optimizer='adam', loss=keras.losses.binary_crossentropy, metrics=['accuracy'])\n",
        "model.summary()"
      ],
      "metadata": {
        "colab": {
          "base_uri": "https://localhost:8080/"
        },
        "id": "k-PxJ2oO277A",
        "outputId": "2ff5fc1a-08a3-4d6c-fea3-ad0d1427d723"
      },
      "id": "k-PxJ2oO277A",
      "execution_count": 159,
      "outputs": [
        {
          "output_type": "stream",
          "name": "stdout",
          "text": [
            "Model: \"model_6\"\n",
            "__________________________________________________________________________________________________\n",
            " Layer (type)                   Output Shape         Param #     Connected to                     \n",
            "==================================================================================================\n",
            " input_5 (InputLayer)           [(None, 256, 256, 3  0           []                               \n",
            "                                )]                                                                \n",
            "                                                                                                  \n",
            " conv2d_376 (Conv2D)            (None, 127, 127, 32  864         ['input_5[0][0]']                \n",
            "                                )                                                                 \n",
            "                                                                                                  \n",
            " batch_normalization_376 (Batch  (None, 127, 127, 32  96         ['conv2d_376[0][0]']             \n",
            " Normalization)                 )                                                                 \n",
            "                                                                                                  \n",
            " activation_376 (Activation)    (None, 127, 127, 32  0           ['batch_normalization_376[0][0]']\n",
            "                                )                                                                 \n",
            "                                                                                                  \n",
            " conv2d_377 (Conv2D)            (None, 125, 125, 32  9216        ['activation_376[0][0]']         \n",
            "                                )                                                                 \n",
            "                                                                                                  \n",
            " batch_normalization_377 (Batch  (None, 125, 125, 32  96         ['conv2d_377[0][0]']             \n",
            " Normalization)                 )                                                                 \n",
            "                                                                                                  \n",
            " activation_377 (Activation)    (None, 125, 125, 32  0           ['batch_normalization_377[0][0]']\n",
            "                                )                                                                 \n",
            "                                                                                                  \n",
            " conv2d_378 (Conv2D)            (None, 125, 125, 64  18432       ['activation_377[0][0]']         \n",
            "                                )                                                                 \n",
            "                                                                                                  \n",
            " batch_normalization_378 (Batch  (None, 125, 125, 64  192        ['conv2d_378[0][0]']             \n",
            " Normalization)                 )                                                                 \n",
            "                                                                                                  \n",
            " activation_378 (Activation)    (None, 125, 125, 64  0           ['batch_normalization_378[0][0]']\n",
            "                                )                                                                 \n",
            "                                                                                                  \n",
            " max_pooling2d_16 (MaxPooling2D  (None, 62, 62, 64)  0           ['activation_378[0][0]']         \n",
            " )                                                                                                \n",
            "                                                                                                  \n",
            " conv2d_379 (Conv2D)            (None, 62, 62, 80)   5120        ['max_pooling2d_16[0][0]']       \n",
            "                                                                                                  \n",
            " batch_normalization_379 (Batch  (None, 62, 62, 80)  240         ['conv2d_379[0][0]']             \n",
            " Normalization)                                                                                   \n",
            "                                                                                                  \n",
            " activation_379 (Activation)    (None, 62, 62, 80)   0           ['batch_normalization_379[0][0]']\n",
            "                                                                                                  \n",
            " conv2d_380 (Conv2D)            (None, 60, 60, 192)  138240      ['activation_379[0][0]']         \n",
            "                                                                                                  \n",
            " batch_normalization_380 (Batch  (None, 60, 60, 192)  576        ['conv2d_380[0][0]']             \n",
            " Normalization)                                                                                   \n",
            "                                                                                                  \n",
            " activation_380 (Activation)    (None, 60, 60, 192)  0           ['batch_normalization_380[0][0]']\n",
            "                                                                                                  \n",
            " max_pooling2d_17 (MaxPooling2D  (None, 29, 29, 192)  0          ['activation_380[0][0]']         \n",
            " )                                                                                                \n",
            "                                                                                                  \n",
            " conv2d_384 (Conv2D)            (None, 29, 29, 64)   12288       ['max_pooling2d_17[0][0]']       \n",
            "                                                                                                  \n",
            " batch_normalization_384 (Batch  (None, 29, 29, 64)  192         ['conv2d_384[0][0]']             \n",
            " Normalization)                                                                                   \n",
            "                                                                                                  \n",
            " activation_384 (Activation)    (None, 29, 29, 64)   0           ['batch_normalization_384[0][0]']\n",
            "                                                                                                  \n",
            " conv2d_382 (Conv2D)            (None, 29, 29, 48)   9216        ['max_pooling2d_17[0][0]']       \n",
            "                                                                                                  \n",
            " conv2d_385 (Conv2D)            (None, 29, 29, 96)   55296       ['activation_384[0][0]']         \n",
            "                                                                                                  \n",
            " batch_normalization_382 (Batch  (None, 29, 29, 48)  144         ['conv2d_382[0][0]']             \n",
            " Normalization)                                                                                   \n",
            "                                                                                                  \n",
            " batch_normalization_385 (Batch  (None, 29, 29, 96)  288         ['conv2d_385[0][0]']             \n",
            " Normalization)                                                                                   \n",
            "                                                                                                  \n",
            " activation_382 (Activation)    (None, 29, 29, 48)   0           ['batch_normalization_382[0][0]']\n",
            "                                                                                                  \n",
            " activation_385 (Activation)    (None, 29, 29, 96)   0           ['batch_normalization_385[0][0]']\n",
            "                                                                                                  \n",
            " average_pooling2d_36 (AverageP  (None, 29, 29, 192)  0          ['max_pooling2d_17[0][0]']       \n",
            " ooling2D)                                                                                        \n",
            "                                                                                                  \n",
            " conv2d_381 (Conv2D)            (None, 29, 29, 64)   12288       ['max_pooling2d_17[0][0]']       \n",
            "                                                                                                  \n",
            " conv2d_383 (Conv2D)            (None, 29, 29, 64)   76800       ['activation_382[0][0]']         \n",
            "                                                                                                  \n",
            " conv2d_386 (Conv2D)            (None, 29, 29, 96)   82944       ['activation_385[0][0]']         \n",
            "                                                                                                  \n",
            " conv2d_387 (Conv2D)            (None, 29, 29, 32)   6144        ['average_pooling2d_36[0][0]']   \n",
            "                                                                                                  \n",
            " batch_normalization_381 (Batch  (None, 29, 29, 64)  192         ['conv2d_381[0][0]']             \n",
            " Normalization)                                                                                   \n",
            "                                                                                                  \n",
            " batch_normalization_383 (Batch  (None, 29, 29, 64)  192         ['conv2d_383[0][0]']             \n",
            " Normalization)                                                                                   \n",
            "                                                                                                  \n",
            " batch_normalization_386 (Batch  (None, 29, 29, 96)  288         ['conv2d_386[0][0]']             \n",
            " Normalization)                                                                                   \n",
            "                                                                                                  \n",
            " batch_normalization_387 (Batch  (None, 29, 29, 32)  96          ['conv2d_387[0][0]']             \n",
            " Normalization)                                                                                   \n",
            "                                                                                                  \n",
            " activation_381 (Activation)    (None, 29, 29, 64)   0           ['batch_normalization_381[0][0]']\n",
            "                                                                                                  \n",
            " activation_383 (Activation)    (None, 29, 29, 64)   0           ['batch_normalization_383[0][0]']\n",
            "                                                                                                  \n",
            " activation_386 (Activation)    (None, 29, 29, 96)   0           ['batch_normalization_386[0][0]']\n",
            "                                                                                                  \n",
            " activation_387 (Activation)    (None, 29, 29, 32)   0           ['batch_normalization_387[0][0]']\n",
            "                                                                                                  \n",
            " mixed0 (Concatenate)           (None, 29, 29, 256)  0           ['activation_381[0][0]',         \n",
            "                                                                  'activation_383[0][0]',         \n",
            "                                                                  'activation_386[0][0]',         \n",
            "                                                                  'activation_387[0][0]']         \n",
            "                                                                                                  \n",
            " conv2d_391 (Conv2D)            (None, 29, 29, 64)   16384       ['mixed0[0][0]']                 \n",
            "                                                                                                  \n",
            " batch_normalization_391 (Batch  (None, 29, 29, 64)  192         ['conv2d_391[0][0]']             \n",
            " Normalization)                                                                                   \n",
            "                                                                                                  \n",
            " activation_391 (Activation)    (None, 29, 29, 64)   0           ['batch_normalization_391[0][0]']\n",
            "                                                                                                  \n",
            " conv2d_389 (Conv2D)            (None, 29, 29, 48)   12288       ['mixed0[0][0]']                 \n",
            "                                                                                                  \n",
            " conv2d_392 (Conv2D)            (None, 29, 29, 96)   55296       ['activation_391[0][0]']         \n",
            "                                                                                                  \n",
            " batch_normalization_389 (Batch  (None, 29, 29, 48)  144         ['conv2d_389[0][0]']             \n",
            " Normalization)                                                                                   \n",
            "                                                                                                  \n",
            " batch_normalization_392 (Batch  (None, 29, 29, 96)  288         ['conv2d_392[0][0]']             \n",
            " Normalization)                                                                                   \n",
            "                                                                                                  \n",
            " activation_389 (Activation)    (None, 29, 29, 48)   0           ['batch_normalization_389[0][0]']\n",
            "                                                                                                  \n",
            " activation_392 (Activation)    (None, 29, 29, 96)   0           ['batch_normalization_392[0][0]']\n",
            "                                                                                                  \n",
            " average_pooling2d_37 (AverageP  (None, 29, 29, 256)  0          ['mixed0[0][0]']                 \n",
            " ooling2D)                                                                                        \n",
            "                                                                                                  \n",
            " conv2d_388 (Conv2D)            (None, 29, 29, 64)   16384       ['mixed0[0][0]']                 \n",
            "                                                                                                  \n",
            " conv2d_390 (Conv2D)            (None, 29, 29, 64)   76800       ['activation_389[0][0]']         \n",
            "                                                                                                  \n",
            " conv2d_393 (Conv2D)            (None, 29, 29, 96)   82944       ['activation_392[0][0]']         \n",
            "                                                                                                  \n",
            " conv2d_394 (Conv2D)            (None, 29, 29, 64)   16384       ['average_pooling2d_37[0][0]']   \n",
            "                                                                                                  \n",
            " batch_normalization_388 (Batch  (None, 29, 29, 64)  192         ['conv2d_388[0][0]']             \n",
            " Normalization)                                                                                   \n",
            "                                                                                                  \n",
            " batch_normalization_390 (Batch  (None, 29, 29, 64)  192         ['conv2d_390[0][0]']             \n",
            " Normalization)                                                                                   \n",
            "                                                                                                  \n",
            " batch_normalization_393 (Batch  (None, 29, 29, 96)  288         ['conv2d_393[0][0]']             \n",
            " Normalization)                                                                                   \n",
            "                                                                                                  \n",
            " batch_normalization_394 (Batch  (None, 29, 29, 64)  192         ['conv2d_394[0][0]']             \n",
            " Normalization)                                                                                   \n",
            "                                                                                                  \n",
            " activation_388 (Activation)    (None, 29, 29, 64)   0           ['batch_normalization_388[0][0]']\n",
            "                                                                                                  \n",
            " activation_390 (Activation)    (None, 29, 29, 64)   0           ['batch_normalization_390[0][0]']\n",
            "                                                                                                  \n",
            " activation_393 (Activation)    (None, 29, 29, 96)   0           ['batch_normalization_393[0][0]']\n",
            "                                                                                                  \n",
            " activation_394 (Activation)    (None, 29, 29, 64)   0           ['batch_normalization_394[0][0]']\n",
            "                                                                                                  \n",
            " mixed1 (Concatenate)           (None, 29, 29, 288)  0           ['activation_388[0][0]',         \n",
            "                                                                  'activation_390[0][0]',         \n",
            "                                                                  'activation_393[0][0]',         \n",
            "                                                                  'activation_394[0][0]']         \n",
            "                                                                                                  \n",
            " conv2d_398 (Conv2D)            (None, 29, 29, 64)   18432       ['mixed1[0][0]']                 \n",
            "                                                                                                  \n",
            " batch_normalization_398 (Batch  (None, 29, 29, 64)  192         ['conv2d_398[0][0]']             \n",
            " Normalization)                                                                                   \n",
            "                                                                                                  \n",
            " activation_398 (Activation)    (None, 29, 29, 64)   0           ['batch_normalization_398[0][0]']\n",
            "                                                                                                  \n",
            " conv2d_396 (Conv2D)            (None, 29, 29, 48)   13824       ['mixed1[0][0]']                 \n",
            "                                                                                                  \n",
            " conv2d_399 (Conv2D)            (None, 29, 29, 96)   55296       ['activation_398[0][0]']         \n",
            "                                                                                                  \n",
            " batch_normalization_396 (Batch  (None, 29, 29, 48)  144         ['conv2d_396[0][0]']             \n",
            " Normalization)                                                                                   \n",
            "                                                                                                  \n",
            " batch_normalization_399 (Batch  (None, 29, 29, 96)  288         ['conv2d_399[0][0]']             \n",
            " Normalization)                                                                                   \n",
            "                                                                                                  \n",
            " activation_396 (Activation)    (None, 29, 29, 48)   0           ['batch_normalization_396[0][0]']\n",
            "                                                                                                  \n",
            " activation_399 (Activation)    (None, 29, 29, 96)   0           ['batch_normalization_399[0][0]']\n",
            "                                                                                                  \n",
            " average_pooling2d_38 (AverageP  (None, 29, 29, 288)  0          ['mixed1[0][0]']                 \n",
            " ooling2D)                                                                                        \n",
            "                                                                                                  \n",
            " conv2d_395 (Conv2D)            (None, 29, 29, 64)   18432       ['mixed1[0][0]']                 \n",
            "                                                                                                  \n",
            " conv2d_397 (Conv2D)            (None, 29, 29, 64)   76800       ['activation_396[0][0]']         \n",
            "                                                                                                  \n",
            " conv2d_400 (Conv2D)            (None, 29, 29, 96)   82944       ['activation_399[0][0]']         \n",
            "                                                                                                  \n",
            " conv2d_401 (Conv2D)            (None, 29, 29, 64)   18432       ['average_pooling2d_38[0][0]']   \n",
            "                                                                                                  \n",
            " batch_normalization_395 (Batch  (None, 29, 29, 64)  192         ['conv2d_395[0][0]']             \n",
            " Normalization)                                                                                   \n",
            "                                                                                                  \n",
            " batch_normalization_397 (Batch  (None, 29, 29, 64)  192         ['conv2d_397[0][0]']             \n",
            " Normalization)                                                                                   \n",
            "                                                                                                  \n",
            " batch_normalization_400 (Batch  (None, 29, 29, 96)  288         ['conv2d_400[0][0]']             \n",
            " Normalization)                                                                                   \n",
            "                                                                                                  \n",
            " batch_normalization_401 (Batch  (None, 29, 29, 64)  192         ['conv2d_401[0][0]']             \n",
            " Normalization)                                                                                   \n",
            "                                                                                                  \n",
            " activation_395 (Activation)    (None, 29, 29, 64)   0           ['batch_normalization_395[0][0]']\n",
            "                                                                                                  \n",
            " activation_397 (Activation)    (None, 29, 29, 64)   0           ['batch_normalization_397[0][0]']\n",
            "                                                                                                  \n",
            " activation_400 (Activation)    (None, 29, 29, 96)   0           ['batch_normalization_400[0][0]']\n",
            "                                                                                                  \n",
            " activation_401 (Activation)    (None, 29, 29, 64)   0           ['batch_normalization_401[0][0]']\n",
            "                                                                                                  \n",
            " mixed2 (Concatenate)           (None, 29, 29, 288)  0           ['activation_395[0][0]',         \n",
            "                                                                  'activation_397[0][0]',         \n",
            "                                                                  'activation_400[0][0]',         \n",
            "                                                                  'activation_401[0][0]']         \n",
            "                                                                                                  \n",
            " conv2d_403 (Conv2D)            (None, 29, 29, 64)   18432       ['mixed2[0][0]']                 \n",
            "                                                                                                  \n",
            " batch_normalization_403 (Batch  (None, 29, 29, 64)  192         ['conv2d_403[0][0]']             \n",
            " Normalization)                                                                                   \n",
            "                                                                                                  \n",
            " activation_403 (Activation)    (None, 29, 29, 64)   0           ['batch_normalization_403[0][0]']\n",
            "                                                                                                  \n",
            " conv2d_404 (Conv2D)            (None, 29, 29, 96)   55296       ['activation_403[0][0]']         \n",
            "                                                                                                  \n",
            " batch_normalization_404 (Batch  (None, 29, 29, 96)  288         ['conv2d_404[0][0]']             \n",
            " Normalization)                                                                                   \n",
            "                                                                                                  \n",
            " activation_404 (Activation)    (None, 29, 29, 96)   0           ['batch_normalization_404[0][0]']\n",
            "                                                                                                  \n",
            " conv2d_402 (Conv2D)            (None, 14, 14, 384)  995328      ['mixed2[0][0]']                 \n",
            "                                                                                                  \n",
            " conv2d_405 (Conv2D)            (None, 14, 14, 96)   82944       ['activation_404[0][0]']         \n",
            "                                                                                                  \n",
            " batch_normalization_402 (Batch  (None, 14, 14, 384)  1152       ['conv2d_402[0][0]']             \n",
            " Normalization)                                                                                   \n",
            "                                                                                                  \n",
            " batch_normalization_405 (Batch  (None, 14, 14, 96)  288         ['conv2d_405[0][0]']             \n",
            " Normalization)                                                                                   \n",
            "                                                                                                  \n",
            " activation_402 (Activation)    (None, 14, 14, 384)  0           ['batch_normalization_402[0][0]']\n",
            "                                                                                                  \n",
            " activation_405 (Activation)    (None, 14, 14, 96)   0           ['batch_normalization_405[0][0]']\n",
            "                                                                                                  \n",
            " max_pooling2d_18 (MaxPooling2D  (None, 14, 14, 288)  0          ['mixed2[0][0]']                 \n",
            " )                                                                                                \n",
            "                                                                                                  \n",
            " mixed3 (Concatenate)           (None, 14, 14, 768)  0           ['activation_402[0][0]',         \n",
            "                                                                  'activation_405[0][0]',         \n",
            "                                                                  'max_pooling2d_18[0][0]']       \n",
            "                                                                                                  \n",
            " conv2d_410 (Conv2D)            (None, 14, 14, 128)  98304       ['mixed3[0][0]']                 \n",
            "                                                                                                  \n",
            " batch_normalization_410 (Batch  (None, 14, 14, 128)  384        ['conv2d_410[0][0]']             \n",
            " Normalization)                                                                                   \n",
            "                                                                                                  \n",
            " activation_410 (Activation)    (None, 14, 14, 128)  0           ['batch_normalization_410[0][0]']\n",
            "                                                                                                  \n",
            " conv2d_411 (Conv2D)            (None, 14, 14, 128)  114688      ['activation_410[0][0]']         \n",
            "                                                                                                  \n",
            " batch_normalization_411 (Batch  (None, 14, 14, 128)  384        ['conv2d_411[0][0]']             \n",
            " Normalization)                                                                                   \n",
            "                                                                                                  \n",
            " activation_411 (Activation)    (None, 14, 14, 128)  0           ['batch_normalization_411[0][0]']\n",
            "                                                                                                  \n",
            " conv2d_407 (Conv2D)            (None, 14, 14, 128)  98304       ['mixed3[0][0]']                 \n",
            "                                                                                                  \n",
            " conv2d_412 (Conv2D)            (None, 14, 14, 128)  114688      ['activation_411[0][0]']         \n",
            "                                                                                                  \n",
            " batch_normalization_407 (Batch  (None, 14, 14, 128)  384        ['conv2d_407[0][0]']             \n",
            " Normalization)                                                                                   \n",
            "                                                                                                  \n",
            " batch_normalization_412 (Batch  (None, 14, 14, 128)  384        ['conv2d_412[0][0]']             \n",
            " Normalization)                                                                                   \n",
            "                                                                                                  \n",
            " activation_407 (Activation)    (None, 14, 14, 128)  0           ['batch_normalization_407[0][0]']\n",
            "                                                                                                  \n",
            " activation_412 (Activation)    (None, 14, 14, 128)  0           ['batch_normalization_412[0][0]']\n",
            "                                                                                                  \n",
            " conv2d_408 (Conv2D)            (None, 14, 14, 128)  114688      ['activation_407[0][0]']         \n",
            "                                                                                                  \n",
            " conv2d_413 (Conv2D)            (None, 14, 14, 128)  114688      ['activation_412[0][0]']         \n",
            "                                                                                                  \n",
            " batch_normalization_408 (Batch  (None, 14, 14, 128)  384        ['conv2d_408[0][0]']             \n",
            " Normalization)                                                                                   \n",
            "                                                                                                  \n",
            " batch_normalization_413 (Batch  (None, 14, 14, 128)  384        ['conv2d_413[0][0]']             \n",
            " Normalization)                                                                                   \n",
            "                                                                                                  \n",
            " activation_408 (Activation)    (None, 14, 14, 128)  0           ['batch_normalization_408[0][0]']\n",
            "                                                                                                  \n",
            " activation_413 (Activation)    (None, 14, 14, 128)  0           ['batch_normalization_413[0][0]']\n",
            "                                                                                                  \n",
            " average_pooling2d_39 (AverageP  (None, 14, 14, 768)  0          ['mixed3[0][0]']                 \n",
            " ooling2D)                                                                                        \n",
            "                                                                                                  \n",
            " conv2d_406 (Conv2D)            (None, 14, 14, 192)  147456      ['mixed3[0][0]']                 \n",
            "                                                                                                  \n",
            " conv2d_409 (Conv2D)            (None, 14, 14, 192)  172032      ['activation_408[0][0]']         \n",
            "                                                                                                  \n",
            " conv2d_414 (Conv2D)            (None, 14, 14, 192)  172032      ['activation_413[0][0]']         \n",
            "                                                                                                  \n",
            " conv2d_415 (Conv2D)            (None, 14, 14, 192)  147456      ['average_pooling2d_39[0][0]']   \n",
            "                                                                                                  \n",
            " batch_normalization_406 (Batch  (None, 14, 14, 192)  576        ['conv2d_406[0][0]']             \n",
            " Normalization)                                                                                   \n",
            "                                                                                                  \n",
            " batch_normalization_409 (Batch  (None, 14, 14, 192)  576        ['conv2d_409[0][0]']             \n",
            " Normalization)                                                                                   \n",
            "                                                                                                  \n",
            " batch_normalization_414 (Batch  (None, 14, 14, 192)  576        ['conv2d_414[0][0]']             \n",
            " Normalization)                                                                                   \n",
            "                                                                                                  \n",
            " batch_normalization_415 (Batch  (None, 14, 14, 192)  576        ['conv2d_415[0][0]']             \n",
            " Normalization)                                                                                   \n",
            "                                                                                                  \n",
            " activation_406 (Activation)    (None, 14, 14, 192)  0           ['batch_normalization_406[0][0]']\n",
            "                                                                                                  \n",
            " activation_409 (Activation)    (None, 14, 14, 192)  0           ['batch_normalization_409[0][0]']\n",
            "                                                                                                  \n",
            " activation_414 (Activation)    (None, 14, 14, 192)  0           ['batch_normalization_414[0][0]']\n",
            "                                                                                                  \n",
            " activation_415 (Activation)    (None, 14, 14, 192)  0           ['batch_normalization_415[0][0]']\n",
            "                                                                                                  \n",
            " mixed4 (Concatenate)           (None, 14, 14, 768)  0           ['activation_406[0][0]',         \n",
            "                                                                  'activation_409[0][0]',         \n",
            "                                                                  'activation_414[0][0]',         \n",
            "                                                                  'activation_415[0][0]']         \n",
            "                                                                                                  \n",
            " conv2d_420 (Conv2D)            (None, 14, 14, 160)  122880      ['mixed4[0][0]']                 \n",
            "                                                                                                  \n",
            " batch_normalization_420 (Batch  (None, 14, 14, 160)  480        ['conv2d_420[0][0]']             \n",
            " Normalization)                                                                                   \n",
            "                                                                                                  \n",
            " activation_420 (Activation)    (None, 14, 14, 160)  0           ['batch_normalization_420[0][0]']\n",
            "                                                                                                  \n",
            " conv2d_421 (Conv2D)            (None, 14, 14, 160)  179200      ['activation_420[0][0]']         \n",
            "                                                                                                  \n",
            " batch_normalization_421 (Batch  (None, 14, 14, 160)  480        ['conv2d_421[0][0]']             \n",
            " Normalization)                                                                                   \n",
            "                                                                                                  \n",
            " activation_421 (Activation)    (None, 14, 14, 160)  0           ['batch_normalization_421[0][0]']\n",
            "                                                                                                  \n",
            " conv2d_417 (Conv2D)            (None, 14, 14, 160)  122880      ['mixed4[0][0]']                 \n",
            "                                                                                                  \n",
            " conv2d_422 (Conv2D)            (None, 14, 14, 160)  179200      ['activation_421[0][0]']         \n",
            "                                                                                                  \n",
            " batch_normalization_417 (Batch  (None, 14, 14, 160)  480        ['conv2d_417[0][0]']             \n",
            " Normalization)                                                                                   \n",
            "                                                                                                  \n",
            " batch_normalization_422 (Batch  (None, 14, 14, 160)  480        ['conv2d_422[0][0]']             \n",
            " Normalization)                                                                                   \n",
            "                                                                                                  \n",
            " activation_417 (Activation)    (None, 14, 14, 160)  0           ['batch_normalization_417[0][0]']\n",
            "                                                                                                  \n",
            " activation_422 (Activation)    (None, 14, 14, 160)  0           ['batch_normalization_422[0][0]']\n",
            "                                                                                                  \n",
            " conv2d_418 (Conv2D)            (None, 14, 14, 160)  179200      ['activation_417[0][0]']         \n",
            "                                                                                                  \n",
            " conv2d_423 (Conv2D)            (None, 14, 14, 160)  179200      ['activation_422[0][0]']         \n",
            "                                                                                                  \n",
            " batch_normalization_418 (Batch  (None, 14, 14, 160)  480        ['conv2d_418[0][0]']             \n",
            " Normalization)                                                                                   \n",
            "                                                                                                  \n",
            " batch_normalization_423 (Batch  (None, 14, 14, 160)  480        ['conv2d_423[0][0]']             \n",
            " Normalization)                                                                                   \n",
            "                                                                                                  \n",
            " activation_418 (Activation)    (None, 14, 14, 160)  0           ['batch_normalization_418[0][0]']\n",
            "                                                                                                  \n",
            " activation_423 (Activation)    (None, 14, 14, 160)  0           ['batch_normalization_423[0][0]']\n",
            "                                                                                                  \n",
            " average_pooling2d_40 (AverageP  (None, 14, 14, 768)  0          ['mixed4[0][0]']                 \n",
            " ooling2D)                                                                                        \n",
            "                                                                                                  \n",
            " conv2d_416 (Conv2D)            (None, 14, 14, 192)  147456      ['mixed4[0][0]']                 \n",
            "                                                                                                  \n",
            " conv2d_419 (Conv2D)            (None, 14, 14, 192)  215040      ['activation_418[0][0]']         \n",
            "                                                                                                  \n",
            " conv2d_424 (Conv2D)            (None, 14, 14, 192)  215040      ['activation_423[0][0]']         \n",
            "                                                                                                  \n",
            " conv2d_425 (Conv2D)            (None, 14, 14, 192)  147456      ['average_pooling2d_40[0][0]']   \n",
            "                                                                                                  \n",
            " batch_normalization_416 (Batch  (None, 14, 14, 192)  576        ['conv2d_416[0][0]']             \n",
            " Normalization)                                                                                   \n",
            "                                                                                                  \n",
            " batch_normalization_419 (Batch  (None, 14, 14, 192)  576        ['conv2d_419[0][0]']             \n",
            " Normalization)                                                                                   \n",
            "                                                                                                  \n",
            " batch_normalization_424 (Batch  (None, 14, 14, 192)  576        ['conv2d_424[0][0]']             \n",
            " Normalization)                                                                                   \n",
            "                                                                                                  \n",
            " batch_normalization_425 (Batch  (None, 14, 14, 192)  576        ['conv2d_425[0][0]']             \n",
            " Normalization)                                                                                   \n",
            "                                                                                                  \n",
            " activation_416 (Activation)    (None, 14, 14, 192)  0           ['batch_normalization_416[0][0]']\n",
            "                                                                                                  \n",
            " activation_419 (Activation)    (None, 14, 14, 192)  0           ['batch_normalization_419[0][0]']\n",
            "                                                                                                  \n",
            " activation_424 (Activation)    (None, 14, 14, 192)  0           ['batch_normalization_424[0][0]']\n",
            "                                                                                                  \n",
            " activation_425 (Activation)    (None, 14, 14, 192)  0           ['batch_normalization_425[0][0]']\n",
            "                                                                                                  \n",
            " mixed5 (Concatenate)           (None, 14, 14, 768)  0           ['activation_416[0][0]',         \n",
            "                                                                  'activation_419[0][0]',         \n",
            "                                                                  'activation_424[0][0]',         \n",
            "                                                                  'activation_425[0][0]']         \n",
            "                                                                                                  \n",
            " conv2d_430 (Conv2D)            (None, 14, 14, 160)  122880      ['mixed5[0][0]']                 \n",
            "                                                                                                  \n",
            " batch_normalization_430 (Batch  (None, 14, 14, 160)  480        ['conv2d_430[0][0]']             \n",
            " Normalization)                                                                                   \n",
            "                                                                                                  \n",
            " activation_430 (Activation)    (None, 14, 14, 160)  0           ['batch_normalization_430[0][0]']\n",
            "                                                                                                  \n",
            " conv2d_431 (Conv2D)            (None, 14, 14, 160)  179200      ['activation_430[0][0]']         \n",
            "                                                                                                  \n",
            " batch_normalization_431 (Batch  (None, 14, 14, 160)  480        ['conv2d_431[0][0]']             \n",
            " Normalization)                                                                                   \n",
            "                                                                                                  \n",
            " activation_431 (Activation)    (None, 14, 14, 160)  0           ['batch_normalization_431[0][0]']\n",
            "                                                                                                  \n",
            " conv2d_427 (Conv2D)            (None, 14, 14, 160)  122880      ['mixed5[0][0]']                 \n",
            "                                                                                                  \n",
            " conv2d_432 (Conv2D)            (None, 14, 14, 160)  179200      ['activation_431[0][0]']         \n",
            "                                                                                                  \n",
            " batch_normalization_427 (Batch  (None, 14, 14, 160)  480        ['conv2d_427[0][0]']             \n",
            " Normalization)                                                                                   \n",
            "                                                                                                  \n",
            " batch_normalization_432 (Batch  (None, 14, 14, 160)  480        ['conv2d_432[0][0]']             \n",
            " Normalization)                                                                                   \n",
            "                                                                                                  \n",
            " activation_427 (Activation)    (None, 14, 14, 160)  0           ['batch_normalization_427[0][0]']\n",
            "                                                                                                  \n",
            " activation_432 (Activation)    (None, 14, 14, 160)  0           ['batch_normalization_432[0][0]']\n",
            "                                                                                                  \n",
            " conv2d_428 (Conv2D)            (None, 14, 14, 160)  179200      ['activation_427[0][0]']         \n",
            "                                                                                                  \n",
            " conv2d_433 (Conv2D)            (None, 14, 14, 160)  179200      ['activation_432[0][0]']         \n",
            "                                                                                                  \n",
            " batch_normalization_428 (Batch  (None, 14, 14, 160)  480        ['conv2d_428[0][0]']             \n",
            " Normalization)                                                                                   \n",
            "                                                                                                  \n",
            " batch_normalization_433 (Batch  (None, 14, 14, 160)  480        ['conv2d_433[0][0]']             \n",
            " Normalization)                                                                                   \n",
            "                                                                                                  \n",
            " activation_428 (Activation)    (None, 14, 14, 160)  0           ['batch_normalization_428[0][0]']\n",
            "                                                                                                  \n",
            " activation_433 (Activation)    (None, 14, 14, 160)  0           ['batch_normalization_433[0][0]']\n",
            "                                                                                                  \n",
            " average_pooling2d_41 (AverageP  (None, 14, 14, 768)  0          ['mixed5[0][0]']                 \n",
            " ooling2D)                                                                                        \n",
            "                                                                                                  \n",
            " conv2d_426 (Conv2D)            (None, 14, 14, 192)  147456      ['mixed5[0][0]']                 \n",
            "                                                                                                  \n",
            " conv2d_429 (Conv2D)            (None, 14, 14, 192)  215040      ['activation_428[0][0]']         \n",
            "                                                                                                  \n",
            " conv2d_434 (Conv2D)            (None, 14, 14, 192)  215040      ['activation_433[0][0]']         \n",
            "                                                                                                  \n",
            " conv2d_435 (Conv2D)            (None, 14, 14, 192)  147456      ['average_pooling2d_41[0][0]']   \n",
            "                                                                                                  \n",
            " batch_normalization_426 (Batch  (None, 14, 14, 192)  576        ['conv2d_426[0][0]']             \n",
            " Normalization)                                                                                   \n",
            "                                                                                                  \n",
            " batch_normalization_429 (Batch  (None, 14, 14, 192)  576        ['conv2d_429[0][0]']             \n",
            " Normalization)                                                                                   \n",
            "                                                                                                  \n",
            " batch_normalization_434 (Batch  (None, 14, 14, 192)  576        ['conv2d_434[0][0]']             \n",
            " Normalization)                                                                                   \n",
            "                                                                                                  \n",
            " batch_normalization_435 (Batch  (None, 14, 14, 192)  576        ['conv2d_435[0][0]']             \n",
            " Normalization)                                                                                   \n",
            "                                                                                                  \n",
            " activation_426 (Activation)    (None, 14, 14, 192)  0           ['batch_normalization_426[0][0]']\n",
            "                                                                                                  \n",
            " activation_429 (Activation)    (None, 14, 14, 192)  0           ['batch_normalization_429[0][0]']\n",
            "                                                                                                  \n",
            " activation_434 (Activation)    (None, 14, 14, 192)  0           ['batch_normalization_434[0][0]']\n",
            "                                                                                                  \n",
            " activation_435 (Activation)    (None, 14, 14, 192)  0           ['batch_normalization_435[0][0]']\n",
            "                                                                                                  \n",
            " mixed6 (Concatenate)           (None, 14, 14, 768)  0           ['activation_426[0][0]',         \n",
            "                                                                  'activation_429[0][0]',         \n",
            "                                                                  'activation_434[0][0]',         \n",
            "                                                                  'activation_435[0][0]']         \n",
            "                                                                                                  \n",
            " conv2d_440 (Conv2D)            (None, 14, 14, 192)  147456      ['mixed6[0][0]']                 \n",
            "                                                                                                  \n",
            " batch_normalization_440 (Batch  (None, 14, 14, 192)  576        ['conv2d_440[0][0]']             \n",
            " Normalization)                                                                                   \n",
            "                                                                                                  \n",
            " activation_440 (Activation)    (None, 14, 14, 192)  0           ['batch_normalization_440[0][0]']\n",
            "                                                                                                  \n",
            " conv2d_441 (Conv2D)            (None, 14, 14, 192)  258048      ['activation_440[0][0]']         \n",
            "                                                                                                  \n",
            " batch_normalization_441 (Batch  (None, 14, 14, 192)  576        ['conv2d_441[0][0]']             \n",
            " Normalization)                                                                                   \n",
            "                                                                                                  \n",
            " activation_441 (Activation)    (None, 14, 14, 192)  0           ['batch_normalization_441[0][0]']\n",
            "                                                                                                  \n",
            " conv2d_437 (Conv2D)            (None, 14, 14, 192)  147456      ['mixed6[0][0]']                 \n",
            "                                                                                                  \n",
            " conv2d_442 (Conv2D)            (None, 14, 14, 192)  258048      ['activation_441[0][0]']         \n",
            "                                                                                                  \n",
            " batch_normalization_437 (Batch  (None, 14, 14, 192)  576        ['conv2d_437[0][0]']             \n",
            " Normalization)                                                                                   \n",
            "                                                                                                  \n",
            " batch_normalization_442 (Batch  (None, 14, 14, 192)  576        ['conv2d_442[0][0]']             \n",
            " Normalization)                                                                                   \n",
            "                                                                                                  \n",
            " activation_437 (Activation)    (None, 14, 14, 192)  0           ['batch_normalization_437[0][0]']\n",
            "                                                                                                  \n",
            " activation_442 (Activation)    (None, 14, 14, 192)  0           ['batch_normalization_442[0][0]']\n",
            "                                                                                                  \n",
            " conv2d_438 (Conv2D)            (None, 14, 14, 192)  258048      ['activation_437[0][0]']         \n",
            "                                                                                                  \n",
            " conv2d_443 (Conv2D)            (None, 14, 14, 192)  258048      ['activation_442[0][0]']         \n",
            "                                                                                                  \n",
            " batch_normalization_438 (Batch  (None, 14, 14, 192)  576        ['conv2d_438[0][0]']             \n",
            " Normalization)                                                                                   \n",
            "                                                                                                  \n",
            " batch_normalization_443 (Batch  (None, 14, 14, 192)  576        ['conv2d_443[0][0]']             \n",
            " Normalization)                                                                                   \n",
            "                                                                                                  \n",
            " activation_438 (Activation)    (None, 14, 14, 192)  0           ['batch_normalization_438[0][0]']\n",
            "                                                                                                  \n",
            " activation_443 (Activation)    (None, 14, 14, 192)  0           ['batch_normalization_443[0][0]']\n",
            "                                                                                                  \n",
            " average_pooling2d_42 (AverageP  (None, 14, 14, 768)  0          ['mixed6[0][0]']                 \n",
            " ooling2D)                                                                                        \n",
            "                                                                                                  \n",
            " conv2d_436 (Conv2D)            (None, 14, 14, 192)  147456      ['mixed6[0][0]']                 \n",
            "                                                                                                  \n",
            " conv2d_439 (Conv2D)            (None, 14, 14, 192)  258048      ['activation_438[0][0]']         \n",
            "                                                                                                  \n",
            " conv2d_444 (Conv2D)            (None, 14, 14, 192)  258048      ['activation_443[0][0]']         \n",
            "                                                                                                  \n",
            " conv2d_445 (Conv2D)            (None, 14, 14, 192)  147456      ['average_pooling2d_42[0][0]']   \n",
            "                                                                                                  \n",
            " batch_normalization_436 (Batch  (None, 14, 14, 192)  576        ['conv2d_436[0][0]']             \n",
            " Normalization)                                                                                   \n",
            "                                                                                                  \n",
            " batch_normalization_439 (Batch  (None, 14, 14, 192)  576        ['conv2d_439[0][0]']             \n",
            " Normalization)                                                                                   \n",
            "                                                                                                  \n",
            " batch_normalization_444 (Batch  (None, 14, 14, 192)  576        ['conv2d_444[0][0]']             \n",
            " Normalization)                                                                                   \n",
            "                                                                                                  \n",
            " batch_normalization_445 (Batch  (None, 14, 14, 192)  576        ['conv2d_445[0][0]']             \n",
            " Normalization)                                                                                   \n",
            "                                                                                                  \n",
            " activation_436 (Activation)    (None, 14, 14, 192)  0           ['batch_normalization_436[0][0]']\n",
            "                                                                                                  \n",
            " activation_439 (Activation)    (None, 14, 14, 192)  0           ['batch_normalization_439[0][0]']\n",
            "                                                                                                  \n",
            " activation_444 (Activation)    (None, 14, 14, 192)  0           ['batch_normalization_444[0][0]']\n",
            "                                                                                                  \n",
            " activation_445 (Activation)    (None, 14, 14, 192)  0           ['batch_normalization_445[0][0]']\n",
            "                                                                                                  \n",
            " mixed7 (Concatenate)           (None, 14, 14, 768)  0           ['activation_436[0][0]',         \n",
            "                                                                  'activation_439[0][0]',         \n",
            "                                                                  'activation_444[0][0]',         \n",
            "                                                                  'activation_445[0][0]']         \n",
            "                                                                                                  \n",
            " conv2d_448 (Conv2D)            (None, 14, 14, 192)  147456      ['mixed7[0][0]']                 \n",
            "                                                                                                  \n",
            " batch_normalization_448 (Batch  (None, 14, 14, 192)  576        ['conv2d_448[0][0]']             \n",
            " Normalization)                                                                                   \n",
            "                                                                                                  \n",
            " activation_448 (Activation)    (None, 14, 14, 192)  0           ['batch_normalization_448[0][0]']\n",
            "                                                                                                  \n",
            " conv2d_449 (Conv2D)            (None, 14, 14, 192)  258048      ['activation_448[0][0]']         \n",
            "                                                                                                  \n",
            " batch_normalization_449 (Batch  (None, 14, 14, 192)  576        ['conv2d_449[0][0]']             \n",
            " Normalization)                                                                                   \n",
            "                                                                                                  \n",
            " activation_449 (Activation)    (None, 14, 14, 192)  0           ['batch_normalization_449[0][0]']\n",
            "                                                                                                  \n",
            " conv2d_446 (Conv2D)            (None, 14, 14, 192)  147456      ['mixed7[0][0]']                 \n",
            "                                                                                                  \n",
            " conv2d_450 (Conv2D)            (None, 14, 14, 192)  258048      ['activation_449[0][0]']         \n",
            "                                                                                                  \n",
            " batch_normalization_446 (Batch  (None, 14, 14, 192)  576        ['conv2d_446[0][0]']             \n",
            " Normalization)                                                                                   \n",
            "                                                                                                  \n",
            " batch_normalization_450 (Batch  (None, 14, 14, 192)  576        ['conv2d_450[0][0]']             \n",
            " Normalization)                                                                                   \n",
            "                                                                                                  \n",
            " activation_446 (Activation)    (None, 14, 14, 192)  0           ['batch_normalization_446[0][0]']\n",
            "                                                                                                  \n",
            " activation_450 (Activation)    (None, 14, 14, 192)  0           ['batch_normalization_450[0][0]']\n",
            "                                                                                                  \n",
            " conv2d_447 (Conv2D)            (None, 6, 6, 320)    552960      ['activation_446[0][0]']         \n",
            "                                                                                                  \n",
            " conv2d_451 (Conv2D)            (None, 6, 6, 192)    331776      ['activation_450[0][0]']         \n",
            "                                                                                                  \n",
            " batch_normalization_447 (Batch  (None, 6, 6, 320)   960         ['conv2d_447[0][0]']             \n",
            " Normalization)                                                                                   \n",
            "                                                                                                  \n",
            " batch_normalization_451 (Batch  (None, 6, 6, 192)   576         ['conv2d_451[0][0]']             \n",
            " Normalization)                                                                                   \n",
            "                                                                                                  \n",
            " activation_447 (Activation)    (None, 6, 6, 320)    0           ['batch_normalization_447[0][0]']\n",
            "                                                                                                  \n",
            " activation_451 (Activation)    (None, 6, 6, 192)    0           ['batch_normalization_451[0][0]']\n",
            "                                                                                                  \n",
            " max_pooling2d_19 (MaxPooling2D  (None, 6, 6, 768)   0           ['mixed7[0][0]']                 \n",
            " )                                                                                                \n",
            "                                                                                                  \n",
            " mixed8 (Concatenate)           (None, 6, 6, 1280)   0           ['activation_447[0][0]',         \n",
            "                                                                  'activation_451[0][0]',         \n",
            "                                                                  'max_pooling2d_19[0][0]']       \n",
            "                                                                                                  \n",
            " conv2d_456 (Conv2D)            (None, 6, 6, 448)    573440      ['mixed8[0][0]']                 \n",
            "                                                                                                  \n",
            " batch_normalization_456 (Batch  (None, 6, 6, 448)   1344        ['conv2d_456[0][0]']             \n",
            " Normalization)                                                                                   \n",
            "                                                                                                  \n",
            " activation_456 (Activation)    (None, 6, 6, 448)    0           ['batch_normalization_456[0][0]']\n",
            "                                                                                                  \n",
            " conv2d_453 (Conv2D)            (None, 6, 6, 384)    491520      ['mixed8[0][0]']                 \n",
            "                                                                                                  \n",
            " conv2d_457 (Conv2D)            (None, 6, 6, 384)    1548288     ['activation_456[0][0]']         \n",
            "                                                                                                  \n",
            " batch_normalization_453 (Batch  (None, 6, 6, 384)   1152        ['conv2d_453[0][0]']             \n",
            " Normalization)                                                                                   \n",
            "                                                                                                  \n",
            " batch_normalization_457 (Batch  (None, 6, 6, 384)   1152        ['conv2d_457[0][0]']             \n",
            " Normalization)                                                                                   \n",
            "                                                                                                  \n",
            " activation_453 (Activation)    (None, 6, 6, 384)    0           ['batch_normalization_453[0][0]']\n",
            "                                                                                                  \n",
            " activation_457 (Activation)    (None, 6, 6, 384)    0           ['batch_normalization_457[0][0]']\n",
            "                                                                                                  \n",
            " conv2d_454 (Conv2D)            (None, 6, 6, 384)    442368      ['activation_453[0][0]']         \n",
            "                                                                                                  \n",
            " conv2d_455 (Conv2D)            (None, 6, 6, 384)    442368      ['activation_453[0][0]']         \n",
            "                                                                                                  \n",
            " conv2d_458 (Conv2D)            (None, 6, 6, 384)    442368      ['activation_457[0][0]']         \n",
            "                                                                                                  \n",
            " conv2d_459 (Conv2D)            (None, 6, 6, 384)    442368      ['activation_457[0][0]']         \n",
            "                                                                                                  \n",
            " average_pooling2d_43 (AverageP  (None, 6, 6, 1280)  0           ['mixed8[0][0]']                 \n",
            " ooling2D)                                                                                        \n",
            "                                                                                                  \n",
            " conv2d_452 (Conv2D)            (None, 6, 6, 320)    409600      ['mixed8[0][0]']                 \n",
            "                                                                                                  \n",
            " batch_normalization_454 (Batch  (None, 6, 6, 384)   1152        ['conv2d_454[0][0]']             \n",
            " Normalization)                                                                                   \n",
            "                                                                                                  \n",
            " batch_normalization_455 (Batch  (None, 6, 6, 384)   1152        ['conv2d_455[0][0]']             \n",
            " Normalization)                                                                                   \n",
            "                                                                                                  \n",
            " batch_normalization_458 (Batch  (None, 6, 6, 384)   1152        ['conv2d_458[0][0]']             \n",
            " Normalization)                                                                                   \n",
            "                                                                                                  \n",
            " batch_normalization_459 (Batch  (None, 6, 6, 384)   1152        ['conv2d_459[0][0]']             \n",
            " Normalization)                                                                                   \n",
            "                                                                                                  \n",
            " conv2d_460 (Conv2D)            (None, 6, 6, 192)    245760      ['average_pooling2d_43[0][0]']   \n",
            "                                                                                                  \n",
            " batch_normalization_452 (Batch  (None, 6, 6, 320)   960         ['conv2d_452[0][0]']             \n",
            " Normalization)                                                                                   \n",
            "                                                                                                  \n",
            " activation_454 (Activation)    (None, 6, 6, 384)    0           ['batch_normalization_454[0][0]']\n",
            "                                                                                                  \n",
            " activation_455 (Activation)    (None, 6, 6, 384)    0           ['batch_normalization_455[0][0]']\n",
            "                                                                                                  \n",
            " activation_458 (Activation)    (None, 6, 6, 384)    0           ['batch_normalization_458[0][0]']\n",
            "                                                                                                  \n",
            " activation_459 (Activation)    (None, 6, 6, 384)    0           ['batch_normalization_459[0][0]']\n",
            "                                                                                                  \n",
            " batch_normalization_460 (Batch  (None, 6, 6, 192)   576         ['conv2d_460[0][0]']             \n",
            " Normalization)                                                                                   \n",
            "                                                                                                  \n",
            " activation_452 (Activation)    (None, 6, 6, 320)    0           ['batch_normalization_452[0][0]']\n",
            "                                                                                                  \n",
            " mixed9_0 (Concatenate)         (None, 6, 6, 768)    0           ['activation_454[0][0]',         \n",
            "                                                                  'activation_455[0][0]']         \n",
            "                                                                                                  \n",
            " concatenate_8 (Concatenate)    (None, 6, 6, 768)    0           ['activation_458[0][0]',         \n",
            "                                                                  'activation_459[0][0]']         \n",
            "                                                                                                  \n",
            " activation_460 (Activation)    (None, 6, 6, 192)    0           ['batch_normalization_460[0][0]']\n",
            "                                                                                                  \n",
            " mixed9 (Concatenate)           (None, 6, 6, 2048)   0           ['activation_452[0][0]',         \n",
            "                                                                  'mixed9_0[0][0]',               \n",
            "                                                                  'concatenate_8[0][0]',          \n",
            "                                                                  'activation_460[0][0]']         \n",
            "                                                                                                  \n",
            " conv2d_465 (Conv2D)            (None, 6, 6, 448)    917504      ['mixed9[0][0]']                 \n",
            "                                                                                                  \n",
            " batch_normalization_465 (Batch  (None, 6, 6, 448)   1344        ['conv2d_465[0][0]']             \n",
            " Normalization)                                                                                   \n",
            "                                                                                                  \n",
            " activation_465 (Activation)    (None, 6, 6, 448)    0           ['batch_normalization_465[0][0]']\n",
            "                                                                                                  \n",
            " conv2d_462 (Conv2D)            (None, 6, 6, 384)    786432      ['mixed9[0][0]']                 \n",
            "                                                                                                  \n",
            " conv2d_466 (Conv2D)            (None, 6, 6, 384)    1548288     ['activation_465[0][0]']         \n",
            "                                                                                                  \n",
            " batch_normalization_462 (Batch  (None, 6, 6, 384)   1152        ['conv2d_462[0][0]']             \n",
            " Normalization)                                                                                   \n",
            "                                                                                                  \n",
            " batch_normalization_466 (Batch  (None, 6, 6, 384)   1152        ['conv2d_466[0][0]']             \n",
            " Normalization)                                                                                   \n",
            "                                                                                                  \n",
            " activation_462 (Activation)    (None, 6, 6, 384)    0           ['batch_normalization_462[0][0]']\n",
            "                                                                                                  \n",
            " activation_466 (Activation)    (None, 6, 6, 384)    0           ['batch_normalization_466[0][0]']\n",
            "                                                                                                  \n",
            " conv2d_463 (Conv2D)            (None, 6, 6, 384)    442368      ['activation_462[0][0]']         \n",
            "                                                                                                  \n",
            " conv2d_464 (Conv2D)            (None, 6, 6, 384)    442368      ['activation_462[0][0]']         \n",
            "                                                                                                  \n",
            " conv2d_467 (Conv2D)            (None, 6, 6, 384)    442368      ['activation_466[0][0]']         \n",
            "                                                                                                  \n",
            " conv2d_468 (Conv2D)            (None, 6, 6, 384)    442368      ['activation_466[0][0]']         \n",
            "                                                                                                  \n",
            " average_pooling2d_44 (AverageP  (None, 6, 6, 2048)  0           ['mixed9[0][0]']                 \n",
            " ooling2D)                                                                                        \n",
            "                                                                                                  \n",
            " conv2d_461 (Conv2D)            (None, 6, 6, 320)    655360      ['mixed9[0][0]']                 \n",
            "                                                                                                  \n",
            " batch_normalization_463 (Batch  (None, 6, 6, 384)   1152        ['conv2d_463[0][0]']             \n",
            " Normalization)                                                                                   \n",
            "                                                                                                  \n",
            " batch_normalization_464 (Batch  (None, 6, 6, 384)   1152        ['conv2d_464[0][0]']             \n",
            " Normalization)                                                                                   \n",
            "                                                                                                  \n",
            " batch_normalization_467 (Batch  (None, 6, 6, 384)   1152        ['conv2d_467[0][0]']             \n",
            " Normalization)                                                                                   \n",
            "                                                                                                  \n",
            " batch_normalization_468 (Batch  (None, 6, 6, 384)   1152        ['conv2d_468[0][0]']             \n",
            " Normalization)                                                                                   \n",
            "                                                                                                  \n",
            " conv2d_469 (Conv2D)            (None, 6, 6, 192)    393216      ['average_pooling2d_44[0][0]']   \n",
            "                                                                                                  \n",
            " batch_normalization_461 (Batch  (None, 6, 6, 320)   960         ['conv2d_461[0][0]']             \n",
            " Normalization)                                                                                   \n",
            "                                                                                                  \n",
            " activation_463 (Activation)    (None, 6, 6, 384)    0           ['batch_normalization_463[0][0]']\n",
            "                                                                                                  \n",
            " activation_464 (Activation)    (None, 6, 6, 384)    0           ['batch_normalization_464[0][0]']\n",
            "                                                                                                  \n",
            " activation_467 (Activation)    (None, 6, 6, 384)    0           ['batch_normalization_467[0][0]']\n",
            "                                                                                                  \n",
            " activation_468 (Activation)    (None, 6, 6, 384)    0           ['batch_normalization_468[0][0]']\n",
            "                                                                                                  \n",
            " batch_normalization_469 (Batch  (None, 6, 6, 192)   576         ['conv2d_469[0][0]']             \n",
            " Normalization)                                                                                   \n",
            "                                                                                                  \n",
            " activation_461 (Activation)    (None, 6, 6, 320)    0           ['batch_normalization_461[0][0]']\n",
            "                                                                                                  \n",
            " mixed9_1 (Concatenate)         (None, 6, 6, 768)    0           ['activation_463[0][0]',         \n",
            "                                                                  'activation_464[0][0]']         \n",
            "                                                                                                  \n",
            " concatenate_9 (Concatenate)    (None, 6, 6, 768)    0           ['activation_467[0][0]',         \n",
            "                                                                  'activation_468[0][0]']         \n",
            "                                                                                                  \n",
            " activation_469 (Activation)    (None, 6, 6, 192)    0           ['batch_normalization_469[0][0]']\n",
            "                                                                                                  \n",
            " mixed10 (Concatenate)          (None, 6, 6, 2048)   0           ['activation_461[0][0]',         \n",
            "                                                                  'mixed9_1[0][0]',               \n",
            "                                                                  'concatenate_9[0][0]',          \n",
            "                                                                  'activation_469[0][0]']         \n",
            "                                                                                                  \n",
            " flatten_4 (Flatten)            (None, 73728)        0           ['mixed10[0][0]']                \n",
            "                                                                                                  \n",
            " dense_13 (Dense)               (None, 2)            147458      ['flatten_4[0][0]']              \n",
            "                                                                                                  \n",
            "==================================================================================================\n",
            "Total params: 21,950,242\n",
            "Trainable params: 147,458\n",
            "Non-trainable params: 21,802,784\n",
            "__________________________________________________________________________________________________\n"
          ]
        }
      ]
    },
    {
      "cell_type": "code",
      "source": [
        "# Preprocess data using data generator\n",
        "train_datagen=ImageDataGenerator(featurewise_center=True, \n",
        "                                 rotation_range=0.4, \n",
        "                                 width_shift_range=0.3,\n",
        "                                 horizontal_flip=True, \n",
        "                                 preprocessing_function=preprocess_input, \n",
        "                                 zoom_range=0.4,\n",
        "                                 shear_range=0.4)\n",
        "train_data=train_datagen.flow_from_directory(directory='/content/Tree_NoTree_Dataset/Tree_NoTree_Dataset', \n",
        "                                             target_size=(256,256), \n",
        "                                             batch_size=36)"
      ],
      "metadata": {
        "colab": {
          "base_uri": "https://localhost:8080/"
        },
        "id": "60oBG8Kl32vC",
        "outputId": "5d897f92-452e-4751-94a3-337b5962b4b9"
      },
      "id": "60oBG8Kl32vC",
      "execution_count": 160,
      "outputs": [
        {
          "output_type": "stream",
          "name": "stdout",
          "text": [
            "Found 1000 images belonging to 2 classes.\n"
          ]
        }
      ]
    },
    {
      "cell_type": "code",
      "source": [
        "# Check index value\n",
        "train_data.class_indices"
      ],
      "metadata": {
        "colab": {
          "base_uri": "https://localhost:8080/"
        },
        "id": "zZiwI3Ad_bb8",
        "outputId": "b01c4522-544e-4b86-f54c-f6b86aa192b9"
      },
      "id": "zZiwI3Ad_bb8",
      "execution_count": 161,
      "outputs": [
        {
          "output_type": "execute_result",
          "data": {
            "text/plain": [
              "{'No_Tree-samples': 0, 'Tree-samples': 1}"
            ]
          },
          "metadata": {},
          "execution_count": 161
        }
      ]
    },
    {
      "cell_type": "code",
      "source": [
        "t_img,label=train_data.next()"
      ],
      "metadata": {
        "id": "T47LaTRX_hjO"
      },
      "id": "T47LaTRX_hjO",
      "execution_count": 162,
      "outputs": []
    },
    {
      "cell_type": "code",
      "source": [
        "t_img.shape"
      ],
      "metadata": {
        "colab": {
          "base_uri": "https://localhost:8080/"
        },
        "id": "0yfpSY7z_2ig",
        "outputId": "c49292c9-61ed-4a44-9431-736221033f47"
      },
      "id": "0yfpSY7z_2ig",
      "execution_count": 163,
      "outputs": [
        {
          "output_type": "execute_result",
          "data": {
            "text/plain": [
              "(36, 256, 256, 3)"
            ]
          },
          "metadata": {},
          "execution_count": 163
        }
      ]
    },
    {
      "cell_type": "code",
      "source": [
        "t_img"
      ],
      "metadata": {
        "colab": {
          "base_uri": "https://localhost:8080/"
        },
        "id": "caCGFaZ5_77d",
        "outputId": "1014bc03-732c-4c7c-b96f-8f4519bec913"
      },
      "id": "caCGFaZ5_77d",
      "execution_count": 164,
      "outputs": [
        {
          "output_type": "execute_result",
          "data": {
            "text/plain": [
              "array([[[[-1., -1., -1.],\n",
              "         [-1., -1., -1.],\n",
              "         [-1., -1., -1.],\n",
              "         ...,\n",
              "         [-1., -1., -1.],\n",
              "         [-1., -1., -1.],\n",
              "         [-1., -1., -1.]],\n",
              "\n",
              "        [[-1., -1., -1.],\n",
              "         [-1., -1., -1.],\n",
              "         [-1., -1., -1.],\n",
              "         ...,\n",
              "         [-1., -1., -1.],\n",
              "         [-1., -1., -1.],\n",
              "         [-1., -1., -1.]],\n",
              "\n",
              "        [[-1., -1., -1.],\n",
              "         [-1., -1., -1.],\n",
              "         [-1., -1., -1.],\n",
              "         ...,\n",
              "         [-1., -1., -1.],\n",
              "         [-1., -1., -1.],\n",
              "         [-1., -1., -1.]],\n",
              "\n",
              "        ...,\n",
              "\n",
              "        [[-1., -1., -1.],\n",
              "         [-1., -1., -1.],\n",
              "         [-1., -1., -1.],\n",
              "         ...,\n",
              "         [-1., -1., -1.],\n",
              "         [-1., -1., -1.],\n",
              "         [-1., -1., -1.]],\n",
              "\n",
              "        [[-1., -1., -1.],\n",
              "         [-1., -1., -1.],\n",
              "         [-1., -1., -1.],\n",
              "         ...,\n",
              "         [-1., -1., -1.],\n",
              "         [-1., -1., -1.],\n",
              "         [-1., -1., -1.]],\n",
              "\n",
              "        [[-1., -1., -1.],\n",
              "         [-1., -1., -1.],\n",
              "         [-1., -1., -1.],\n",
              "         ...,\n",
              "         [-1., -1., -1.],\n",
              "         [-1., -1., -1.],\n",
              "         [-1., -1., -1.]]],\n",
              "\n",
              "\n",
              "       [[[-1., -1., -1.],\n",
              "         [-1., -1., -1.],\n",
              "         [-1., -1., -1.],\n",
              "         ...,\n",
              "         [-1., -1., -1.],\n",
              "         [-1., -1., -1.],\n",
              "         [-1., -1., -1.]],\n",
              "\n",
              "        [[-1., -1., -1.],\n",
              "         [-1., -1., -1.],\n",
              "         [-1., -1., -1.],\n",
              "         ...,\n",
              "         [-1., -1., -1.],\n",
              "         [-1., -1., -1.],\n",
              "         [-1., -1., -1.]],\n",
              "\n",
              "        [[-1., -1., -1.],\n",
              "         [-1., -1., -1.],\n",
              "         [-1., -1., -1.],\n",
              "         ...,\n",
              "         [-1., -1., -1.],\n",
              "         [-1., -1., -1.],\n",
              "         [-1., -1., -1.]],\n",
              "\n",
              "        ...,\n",
              "\n",
              "        [[-1., -1., -1.],\n",
              "         [-1., -1., -1.],\n",
              "         [-1., -1., -1.],\n",
              "         ...,\n",
              "         [-1., -1., -1.],\n",
              "         [-1., -1., -1.],\n",
              "         [-1., -1., -1.]],\n",
              "\n",
              "        [[-1., -1., -1.],\n",
              "         [-1., -1., -1.],\n",
              "         [-1., -1., -1.],\n",
              "         ...,\n",
              "         [-1., -1., -1.],\n",
              "         [-1., -1., -1.],\n",
              "         [-1., -1., -1.]],\n",
              "\n",
              "        [[-1., -1., -1.],\n",
              "         [-1., -1., -1.],\n",
              "         [-1., -1., -1.],\n",
              "         ...,\n",
              "         [-1., -1., -1.],\n",
              "         [-1., -1., -1.],\n",
              "         [-1., -1., -1.]]],\n",
              "\n",
              "\n",
              "       [[[-1., -1., -1.],\n",
              "         [-1., -1., -1.],\n",
              "         [-1., -1., -1.],\n",
              "         ...,\n",
              "         [-1., -1., -1.],\n",
              "         [-1., -1., -1.],\n",
              "         [-1., -1., -1.]],\n",
              "\n",
              "        [[-1., -1., -1.],\n",
              "         [-1., -1., -1.],\n",
              "         [-1., -1., -1.],\n",
              "         ...,\n",
              "         [-1., -1., -1.],\n",
              "         [-1., -1., -1.],\n",
              "         [-1., -1., -1.]],\n",
              "\n",
              "        [[-1., -1., -1.],\n",
              "         [-1., -1., -1.],\n",
              "         [-1., -1., -1.],\n",
              "         ...,\n",
              "         [-1., -1., -1.],\n",
              "         [-1., -1., -1.],\n",
              "         [-1., -1., -1.]],\n",
              "\n",
              "        ...,\n",
              "\n",
              "        [[-1., -1., -1.],\n",
              "         [-1., -1., -1.],\n",
              "         [-1., -1., -1.],\n",
              "         ...,\n",
              "         [-1., -1., -1.],\n",
              "         [-1., -1., -1.],\n",
              "         [-1., -1., -1.]],\n",
              "\n",
              "        [[-1., -1., -1.],\n",
              "         [-1., -1., -1.],\n",
              "         [-1., -1., -1.],\n",
              "         ...,\n",
              "         [-1., -1., -1.],\n",
              "         [-1., -1., -1.],\n",
              "         [-1., -1., -1.]],\n",
              "\n",
              "        [[-1., -1., -1.],\n",
              "         [-1., -1., -1.],\n",
              "         [-1., -1., -1.],\n",
              "         ...,\n",
              "         [-1., -1., -1.],\n",
              "         [-1., -1., -1.],\n",
              "         [-1., -1., -1.]]],\n",
              "\n",
              "\n",
              "       ...,\n",
              "\n",
              "\n",
              "       [[[-1., -1., -1.],\n",
              "         [-1., -1., -1.],\n",
              "         [-1., -1., -1.],\n",
              "         ...,\n",
              "         [-1., -1., -1.],\n",
              "         [-1., -1., -1.],\n",
              "         [-1., -1., -1.]],\n",
              "\n",
              "        [[-1., -1., -1.],\n",
              "         [-1., -1., -1.],\n",
              "         [-1., -1., -1.],\n",
              "         ...,\n",
              "         [-1., -1., -1.],\n",
              "         [-1., -1., -1.],\n",
              "         [-1., -1., -1.]],\n",
              "\n",
              "        [[-1., -1., -1.],\n",
              "         [-1., -1., -1.],\n",
              "         [-1., -1., -1.],\n",
              "         ...,\n",
              "         [-1., -1., -1.],\n",
              "         [-1., -1., -1.],\n",
              "         [-1., -1., -1.]],\n",
              "\n",
              "        ...,\n",
              "\n",
              "        [[-1., -1., -1.],\n",
              "         [-1., -1., -1.],\n",
              "         [-1., -1., -1.],\n",
              "         ...,\n",
              "         [-1., -1., -1.],\n",
              "         [-1., -1., -1.],\n",
              "         [-1., -1., -1.]],\n",
              "\n",
              "        [[-1., -1., -1.],\n",
              "         [-1., -1., -1.],\n",
              "         [-1., -1., -1.],\n",
              "         ...,\n",
              "         [-1., -1., -1.],\n",
              "         [-1., -1., -1.],\n",
              "         [-1., -1., -1.]],\n",
              "\n",
              "        [[-1., -1., -1.],\n",
              "         [-1., -1., -1.],\n",
              "         [-1., -1., -1.],\n",
              "         ...,\n",
              "         [-1., -1., -1.],\n",
              "         [-1., -1., -1.],\n",
              "         [-1., -1., -1.]]],\n",
              "\n",
              "\n",
              "       [[[-1., -1., -1.],\n",
              "         [-1., -1., -1.],\n",
              "         [-1., -1., -1.],\n",
              "         ...,\n",
              "         [-1., -1., -1.],\n",
              "         [-1., -1., -1.],\n",
              "         [-1., -1., -1.]],\n",
              "\n",
              "        [[-1., -1., -1.],\n",
              "         [-1., -1., -1.],\n",
              "         [-1., -1., -1.],\n",
              "         ...,\n",
              "         [-1., -1., -1.],\n",
              "         [-1., -1., -1.],\n",
              "         [-1., -1., -1.]],\n",
              "\n",
              "        [[-1., -1., -1.],\n",
              "         [-1., -1., -1.],\n",
              "         [-1., -1., -1.],\n",
              "         ...,\n",
              "         [-1., -1., -1.],\n",
              "         [-1., -1., -1.],\n",
              "         [-1., -1., -1.]],\n",
              "\n",
              "        ...,\n",
              "\n",
              "        [[-1., -1., -1.],\n",
              "         [-1., -1., -1.],\n",
              "         [-1., -1., -1.],\n",
              "         ...,\n",
              "         [-1., -1., -1.],\n",
              "         [-1., -1., -1.],\n",
              "         [-1., -1., -1.]],\n",
              "\n",
              "        [[-1., -1., -1.],\n",
              "         [-1., -1., -1.],\n",
              "         [-1., -1., -1.],\n",
              "         ...,\n",
              "         [-1., -1., -1.],\n",
              "         [-1., -1., -1.],\n",
              "         [-1., -1., -1.]],\n",
              "\n",
              "        [[-1., -1., -1.],\n",
              "         [-1., -1., -1.],\n",
              "         [-1., -1., -1.],\n",
              "         ...,\n",
              "         [-1., -1., -1.],\n",
              "         [-1., -1., -1.],\n",
              "         [-1., -1., -1.]]],\n",
              "\n",
              "\n",
              "       [[[-1., -1., -1.],\n",
              "         [-1., -1., -1.],\n",
              "         [-1., -1., -1.],\n",
              "         ...,\n",
              "         [-1., -1., -1.],\n",
              "         [-1., -1., -1.],\n",
              "         [-1., -1., -1.]],\n",
              "\n",
              "        [[-1., -1., -1.],\n",
              "         [-1., -1., -1.],\n",
              "         [-1., -1., -1.],\n",
              "         ...,\n",
              "         [-1., -1., -1.],\n",
              "         [-1., -1., -1.],\n",
              "         [-1., -1., -1.]],\n",
              "\n",
              "        [[-1., -1., -1.],\n",
              "         [-1., -1., -1.],\n",
              "         [-1., -1., -1.],\n",
              "         ...,\n",
              "         [-1., -1., -1.],\n",
              "         [-1., -1., -1.],\n",
              "         [-1., -1., -1.]],\n",
              "\n",
              "        ...,\n",
              "\n",
              "        [[-1., -1., -1.],\n",
              "         [-1., -1., -1.],\n",
              "         [-1., -1., -1.],\n",
              "         ...,\n",
              "         [-1., -1., -1.],\n",
              "         [-1., -1., -1.],\n",
              "         [-1., -1., -1.]],\n",
              "\n",
              "        [[-1., -1., -1.],\n",
              "         [-1., -1., -1.],\n",
              "         [-1., -1., -1.],\n",
              "         ...,\n",
              "         [-1., -1., -1.],\n",
              "         [-1., -1., -1.],\n",
              "         [-1., -1., -1.]],\n",
              "\n",
              "        [[-1., -1., -1.],\n",
              "         [-1., -1., -1.],\n",
              "         [-1., -1., -1.],\n",
              "         ...,\n",
              "         [-1., -1., -1.],\n",
              "         [-1., -1., -1.],\n",
              "         [-1., -1., -1.]]]], dtype=float32)"
            ]
          },
          "metadata": {},
          "execution_count": 164
        }
      ]
    },
    {
      "cell_type": "code",
      "source": [
        "def plotImages(img_arr,label):\n",
        "  \"\"\"\n",
        "  input: image array\n",
        "  output: plot images\n",
        "  \"\"\"\n",
        "  for idx,img in enumerate(img_arr): # idx=index\n",
        "    if idx<=10:\n",
        "      plt.figure(figsize=(5,5))\n",
        "      plt.imshow(img)\n",
        "      plt.title(img.shape)\n",
        "      plt.axis=False\n",
        "      plt.show()"
      ],
      "metadata": {
        "id": "uQ-2tQCDAH2M"
      },
      "id": "uQ-2tQCDAH2M",
      "execution_count": 165,
      "outputs": []
    },
    {
      "cell_type": "code",
      "source": [
        "plotImages(t_img,label)"
      ],
      "metadata": {
        "colab": {
          "base_uri": "https://localhost:8080/",
          "height": 1000
        },
        "id": "OYa7FYNOBIWV",
        "outputId": "686f1a5d-4cda-4b4f-f865-e05e0e91b008"
      },
      "id": "OYa7FYNOBIWV",
      "execution_count": 166,
      "outputs": [
        {
          "output_type": "stream",
          "name": "stderr",
          "text": [
            "WARNING:matplotlib.image:Clipping input data to the valid range for imshow with RGB data ([0..1] for floats or [0..255] for integers).\n"
          ]
        },
        {
          "output_type": "display_data",
          "data": {
            "text/plain": [
              "<Figure size 360x360 with 1 Axes>"
            ],
            "image/png": "[encoded data removed]"
          },
          "metadata": {
            "needs_background": "light"
          }
        },
        {
          "output_type": "stream",
          "name": "stderr",
          "text": [
            "WARNING:matplotlib.image:Clipping input data to the valid range for imshow with RGB data ([0..1] for floats or [0..255] for integers).\n"
          ]
        },
        {
          "output_type": "display_data",
          "data": {
            "text/plain": [
              "<Figure size 360x360 with 1 Axes>"
            ],
            "image/png": "[encoded data removed]"
          },
          "metadata": {
            "needs_background": "light"
          }
        },
        {
          "output_type": "stream",
          "name": "stderr",
          "text": [
            "WARNING:matplotlib.image:Clipping input data to the valid range for imshow with RGB data ([0..1] for floats or [0..255] for integers).\n"
          ]
        },
        {
          "output_type": "display_data",
          "data": {
            "text/plain": [
              "<Figure size 360x360 with 1 Axes>"
            ],
            "image/png": "[encoded data removed]"
          },
          "metadata": {
            "needs_background": "light"
          }
        },
        {
          "output_type": "stream",
          "name": "stderr",
          "text": [
            "WARNING:matplotlib.image:Clipping input data to the valid range for imshow with RGB data ([0..1] for floats or [0..255] for integers).\n"
          ]
        },
        {
          "output_type": "display_data",
          "data": {
            "text/plain": [
              "<Figure size 360x360 with 1 Axes>"
            ],
            "image/png": "[encoded data removed]"
          },
          "metadata": {
            "needs_background": "light"
          }
        },
        {
          "output_type": "stream",
          "name": "stderr",
          "text": [
            "WARNING:matplotlib.image:Clipping input data to the valid range for imshow with RGB data ([0..1] for floats or [0..255] for integers).\n"
          ]
        },
        {
          "output_type": "display_data",
          "data": {
            "text/plain": [
              "<Figure size 360x360 with 1 Axes>"
            ],
            "image/png": "[encoded data removed]"
          },
          "metadata": {
            "needs_background": "light"
          }
        },
        {
          "output_type": "stream",
          "name": "stderr",
          "text": [
            "WARNING:matplotlib.image:Clipping input data to the valid range for imshow with RGB data ([0..1] for floats or [0..255] for integers).\n"
          ]
        },
        {
          "output_type": "display_data",
          "data": {
            "text/plain": [
              "<Figure size 360x360 with 1 Axes>"
            ],
            "image/png": "[encoded data removed]"
          },
          "metadata": {
            "needs_background": "light"
          }
        },
        {
          "output_type": "stream",
          "name": "stderr",
          "text": [
            "WARNING:matplotlib.image:Clipping input data to the valid range for imshow with RGB data ([0..1] for floats or [0..255] for integers).\n"
          ]
        },
        {
          "output_type": "display_data",
          "data": {
            "text/plain": [
              "<Figure size 360x360 with 1 Axes>"
            ],
            "image/png": "[encoded data removed]"
          },
          "metadata": {
            "needs_background": "light"
          }
        },
        {
          "output_type": "stream",
          "name": "stderr",
          "text": [
            "WARNING:matplotlib.image:Clipping input data to the valid range for imshow with RGB data ([0..1] for floats or [0..255] for integers).\n"
          ]
        },
        {
          "output_type": "display_data",
          "data": {
            "text/plain": [
              "<Figure size 360x360 with 1 Axes>"
            ],
            "image/png": "[encoded data removed]"
          },
          "metadata": {
            "needs_background": "light"
          }
        },
        {
          "output_type": "stream",
          "name": "stderr",
          "text": [
            "WARNING:matplotlib.image:Clipping input data to the valid range for imshow with RGB data ([0..1] for floats or [0..255] for integers).\n"
          ]
        },
        {
          "output_type": "display_data",
          "data": {
            "text/plain": [
              "<Figure size 360x360 with 1 Axes>"
            ],
            "image/png": "[encoded data removed]"
          },
          "metadata": {
            "needs_background": "light"
          }
        },
        {
          "output_type": "stream",
          "name": "stderr",
          "text": [
            "WARNING:matplotlib.image:Clipping input data to the valid range for imshow with RGB data ([0..1] for floats or [0..255] for integers).\n"
          ]
        },
        {
          "output_type": "display_data",
          "data": {
            "text/plain": [
              "<Figure size 360x360 with 1 Axes>"
            ],
            "image/png": "[encoded data removed]"
          },
          "metadata": {
            "needs_background": "light"
          }
        },
        {
          "output_type": "stream",
          "name": "stderr",
          "text": [
            "WARNING:matplotlib.image:Clipping input data to the valid range for imshow with RGB data ([0..1] for floats or [0..255] for integers).\n"
          ]
        },
        {
          "output_type": "display_data",
          "data": {
            "text/plain": [
              "<Figure size 360x360 with 1 Axes>"
            ],
            "image/png": "[encoded data removed]"
          },
          "metadata": {
            "needs_background": "light"
          }
        }
      ]
    },
    {
      "cell_type": "markdown",
      "source": [
        "# Add model checkpoint"
      ],
      "metadata": {
        "id": "amB_o_BUZQ2q"
      },
      "id": "amB_o_BUZQ2q"
    },
    {
      "cell_type": "code",
      "source": [
        "\n",
        "from keras.callbacks import ModelCheckpoint,EarlyStopping\n",
        "\n",
        "mc=ModelCheckpoint(filepath=\"./best_model.h5\", # Where best file will be saved\n",
        "                                              # best model would go here\n",
        "                   monitor=\"accuracy\",\n",
        "                   verbose=1,\n",
        "                   save_best_only=True)\n",
        "\n",
        "es=EarlyStopping(monitor=\"accuracy\",\n",
        "                 min_delta=0.01,\n",
        "                 patience=5, # No of time it should wait if accuracy doesnt increase\n",
        "                 verbose=1)\n",
        "\n",
        "cb=[mc,es]"
      ],
      "metadata": {
        "id": "PFLl78k9BVbC"
      },
      "id": "PFLl78k9BVbC",
      "execution_count": 167,
      "outputs": []
    },
    {
      "cell_type": "markdown",
      "source": [
        "If we dont do early stop model might overfit"
      ],
      "metadata": {
        "id": "FR5AKwyLbk2F"
      },
      "id": "FR5AKwyLbk2F"
    },
    {
      "cell_type": "markdown",
      "source": [
        "# Train model"
      ],
      "metadata": {
        "id": "AcfhjUpqZTSP"
      },
      "id": "AcfhjUpqZTSP"
    },
    {
      "cell_type": "code",
      "source": [
        "his=model.fit_generator(train_data, \n",
        "                        steps_per_epoch=10,\n",
        "                        epochs=30, \n",
        "                        callbacks=cb)    "
      ],
      "metadata": {
        "colab": {
          "base_uri": "https://localhost:8080/"
        },
        "id": "hN3LECXMOap3",
        "outputId": "1502b994-ef5d-42d1-fe8d-90af336fea22"
      },
      "id": "hN3LECXMOap3",
      "execution_count": 168,
      "outputs": [
        {
          "output_type": "stream",
          "name": "stdout",
          "text": [
            "Epoch 1/30\n",
            "10/10 [==============================] - ETA: 0s - loss: 1.2583 - accuracy: 0.8352\n",
            "Epoch 1: accuracy improved from -inf to 0.83523, saving model to ./best_model.h5\n",
            "10/10 [==============================] - 9s 558ms/step - loss: 1.2583 - accuracy: 0.8352\n",
            "Epoch 2/30\n",
            "10/10 [==============================] - ETA: 0s - loss: 0.2217 - accuracy: 0.9694\n",
            "Epoch 2: accuracy improved from 0.83523 to 0.96944, saving model to ./best_model.h5\n",
            "10/10 [==============================] - 6s 573ms/step - loss: 0.2217 - accuracy: 0.9694\n",
            "Epoch 3/30\n",
            "10/10 [==============================] - ETA: 0s - loss: 0.0651 - accuracy: 0.9889\n",
            "Epoch 3: accuracy improved from 0.96944 to 0.98889, saving model to ./best_model.h5\n",
            "10/10 [==============================] - 6s 578ms/step - loss: 0.0651 - accuracy: 0.9889\n",
            "Epoch 4/30\n",
            "10/10 [==============================] - ETA: 0s - loss: 0.0929 - accuracy: 0.9750\n",
            "Epoch 4: accuracy did not improve from 0.98889\n",
            "10/10 [==============================] - 5s 484ms/step - loss: 0.0929 - accuracy: 0.9750\n",
            "Epoch 5/30\n",
            "10/10 [==============================] - ETA: 0s - loss: 0.0539 - accuracy: 0.9861\n",
            "Epoch 5: accuracy did not improve from 0.98889\n",
            "10/10 [==============================] - 5s 481ms/step - loss: 0.0539 - accuracy: 0.9861\n",
            "Epoch 6/30\n",
            "10/10 [==============================] - ETA: 0s - loss: 0.0773 - accuracy: 0.9801\n",
            "Epoch 6: accuracy did not improve from 0.98889\n",
            "10/10 [==============================] - 5s 476ms/step - loss: 0.0773 - accuracy: 0.9801\n",
            "Epoch 7/30\n",
            "10/10 [==============================] - ETA: 0s - loss: 0.1096 - accuracy: 0.9778\n",
            "Epoch 7: accuracy did not improve from 0.98889\n",
            "10/10 [==============================] - 5s 490ms/step - loss: 0.1096 - accuracy: 0.9778\n",
            "Epoch 8/30\n",
            "10/10 [==============================] - ETA: 0s - loss: 0.1377 - accuracy: 0.9806\n",
            "Epoch 8: accuracy did not improve from 0.98889\n",
            "10/10 [==============================] - 5s 487ms/step - loss: 0.1377 - accuracy: 0.9806\n",
            "Epoch 8: early stopping\n"
          ]
        }
      ]
    },
    {
      "cell_type": "code",
      "source": [
        "from keras.models import load_model\n",
        "model=load_model(\"/content/best_model.h5\") # load best model"
      ],
      "metadata": {
        "id": "OorIbqubOx1a"
      },
      "id": "OorIbqubOx1a",
      "execution_count": 169,
      "outputs": []
    },
    {
      "cell_type": "code",
      "source": [
        "h=his.history\n",
        "h.keys()"
      ],
      "metadata": {
        "colab": {
          "base_uri": "https://localhost:8080/"
        },
        "id": "hz1jHAYocZ8D",
        "outputId": "1f7bf116-3b62-4fdc-8c14-2d04fd1e0cee"
      },
      "id": "hz1jHAYocZ8D",
      "execution_count": 170,
      "outputs": [
        {
          "output_type": "execute_result",
          "data": {
            "text/plain": [
              "dict_keys(['loss', 'accuracy'])"
            ]
          },
          "metadata": {},
          "execution_count": 170
        }
      ]
    },
    {
      "cell_type": "code",
      "source": [
        "plt.plot(h['loss'],'go--',c=\"red\")\n",
        "plt.plot(h['accuracy'],'go--',c=\"blue\")\n",
        "\n",
        "plt.title(\"Loss vs Accuracy\")"
      ],
      "metadata": {
        "colab": {
          "base_uri": "https://localhost:8080/",
          "height": 299
        },
        "id": "3WTmvgUTdTwt",
        "outputId": "b7aae215-03b2-4dbe-fd45-47ea4e17ed19"
      },
      "id": "3WTmvgUTdTwt",
      "execution_count": 171,
      "outputs": [
        {
          "output_type": "execute_result",
          "data": {
            "text/plain": [
              "Text(0.5, 1.0, 'Loss vs Accuracy')"
            ]
          },
          "metadata": {},
          "execution_count": 171
        },
        {
          "output_type": "display_data",
          "data": {
            "text/plain": [
              "<Figure size 432x288 with 1 Axes>"
            ],
            "image/png": "[encoded data removed]"
          },
          "metadata": {
            "needs_background": "light"
          }
        }
      ]
    },
    {
      "cell_type": "code",
      "source": [
        "def prediction(path):\n",
        "\n",
        "  img=load_img(path,target_size=(256,256)) # load image\n",
        "\n",
        "  i=img_to_array(img) # convert image to array \n",
        "\n",
        "  i=preprocess_input(i) \n",
        "\n",
        "  input_arr=np.array([i]) # increase dimensions\n",
        "  print(input_arr.shape)  \n",
        "\n",
        "\n",
        "  pred=np.argmax(model.predict(input_arr))\n",
        "\n",
        "  if pred==0:\n",
        "    print(\"The image is not of a Tree\")\n",
        "  else:\n",
        "    print(\"The image is of a Tree\")\n",
        "\n",
        "  plt.imshow(input_arr[0])\n",
        "  plt.title(\"input image\")\n",
        "  plt.axis=False\n",
        "  plt.show()\n",
        "  print(pred)\n",
        "\n"
      ],
      "metadata": {
        "id": "EODKFqOXd-q3"
      },
      "id": "EODKFqOXd-q3",
      "execution_count": 172,
      "outputs": []
    },
    {
      "cell_type": "code",
      "source": [
        "path='/content/drive/MyDrive/licensed-image.jpeg'\n",
        "prediction(path)"
      ],
      "metadata": {
        "colab": {
          "base_uri": "https://localhost:8080/",
          "height": 353
        },
        "id": "Oeg90020Pibl",
        "outputId": "f0c13a54-481b-47e8-e204-ac1dcbf814df"
      },
      "id": "Oeg90020Pibl",
      "execution_count": 173,
      "outputs": [
        {
          "output_type": "stream",
          "name": "stdout",
          "text": [
            "(1, 256, 256, 3)\n"
          ]
        },
        {
          "output_type": "stream",
          "name": "stderr",
          "text": [
            "WARNING:matplotlib.image:Clipping input data to the valid range for imshow with RGB data ([0..1] for floats or [0..255] for integers).\n"
          ]
        },
        {
          "output_type": "stream",
          "name": "stdout",
          "text": [
            "The image is not of a Tree\n"
          ]
        },
        {
          "output_type": "display_data",
          "data": {
            "text/plain": [
              "<Figure size 432x288 with 1 Axes>"
            ],
            "image/png": "[encoded data removed]"
          },
          "metadata": {
            "needs_background": "light"
          }
        },
        {
          "output_type": "stream",
          "name": "stdout",
          "text": [
            "0\n"
          ]
        }
      ]
    },
    {
      "cell_type": "code",
      "source": [
        "import tensorflow as tf\n",
        "\n",
        "# Create a model using high-level tf.keras.* APIs\n",
        "model = tf.keras.models.Sequential([\n",
        "    tf.keras.layers.Dense(units=1, input_shape=[1]),\n",
        "    tf.keras.layers.Dense(units=16, activation='relu'),\n",
        "    tf.keras.layers.Dense(units=1)\n",
        "])\n",
        "model.compile(optimizer='sgd', loss='mean_squared_error') # compile the model\n",
        "model.fit(x=[-1, 0, 1], y=[-3, -1, 1], epochs=5) # train the model\n",
        "# (to generate a SavedModel) tf.saved_model.save(model, \"saved_model_keras_dir\")\n",
        "\n",
        "# Convert the model.\n",
        "converter = tf.lite.TFLiteConverter.from_keras_model(model)\n",
        "tflite_model = converter.convert()\n",
        "\n",
        "# Save the model.\n",
        "with open('model.tflite', 'wb') as f:\n",
        "  f.write(tflite_model)"
      ],
      "metadata": {
        "colab": {
          "base_uri": "https://localhost:8080/"
        },
        "id": "jZhnRAqvTlmJ",
        "outputId": "b934c20b-f913-4726-e57d-9ad588a96ccc"
      },
      "id": "jZhnRAqvTlmJ",
      "execution_count": 174,
      "outputs": [
        {
          "output_type": "stream",
          "name": "stdout",
          "text": [
            "Epoch 1/5\n",
            "1/1 [==============================] - 0s 263ms/step - loss: 4.2833\n",
            "Epoch 2/5\n",
            "1/1 [==============================] - 0s 10ms/step - loss: 4.1565\n",
            "Epoch 3/5\n",
            "1/1 [==============================] - 0s 8ms/step - loss: 4.0373\n",
            "Epoch 4/5\n",
            "1/1 [==============================] - 0s 8ms/step - loss: 3.9262\n",
            "Epoch 5/5\n",
            "1/1 [==============================] - 0s 10ms/step - loss: 3.8221\n"
          ]
        }
      ]
    },
    {
      "cell_type": "code",
      "source": [],
      "metadata": {
        "id": "Glv4OU-8UmyY"
      },
      "id": "Glv4OU-8UmyY",
      "execution_count": 174,
      "outputs": []
    }
  ],
  "metadata": {
    "kernelspec": {
      "display_name": "Python 3 (ipykernel)",
      "language": "python",
      "name": "python3"
    },
    "language_info": {
      "codemirror_mode": {
        "name": "ipython",
        "version": 3
      },
      "file_extension": ".py",
      "mimetype": "text/x-python",
      "name": "python",
      "nbconvert_exporter": "python",
      "pygments_lexer": "ipython3",
      "version": "3.10.4"
    },
    "colab": {
      "provenance": [],
      "collapsed_sections": []
    },
    "accelerator": "GPU"
  },
  "nbformat": 4,
  "nbformat_minor": 5
}